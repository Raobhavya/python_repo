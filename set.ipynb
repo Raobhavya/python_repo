{
  "nbformat": 4,
  "nbformat_minor": 0,
  "metadata": {
    "colab": {
      "provenance": []
    },
    "kernelspec": {
      "name": "python3",
      "display_name": "Python 3"
    },
    "language_info": {
      "name": "python"
    }
  },
  "cells": [
    {
      "cell_type": "code",
      "execution_count": 1,
      "metadata": {
        "colab": {
          "base_uri": "https://localhost:8080/"
        },
        "id": "MypaJimG-Obk",
        "outputId": "8b3cc5f4-f50f-4c6a-abfe-38eb66b2f10e"
      },
      "outputs": [
        {
          "output_type": "execute_result",
          "data": {
            "text/plain": [
              "{1, 12, 127, 13.6, 25, 'apple', 'ball', 'hi', 'king'}"
            ]
          },
          "metadata": {},
          "execution_count": 1
        }
      ],
      "source": [
        "sample_set={1,13.6,\"hi\",12,1,127,25,25,\"apple\",\"king\",\"ball\"}\n",
        "sample_set\n"
      ]
    },
    {
      "cell_type": "code",
      "source": [
        "#cannot be acccessed using index value\n",
        "#mutuable\n",
        "#curly brackets\n",
        "#arranged in ascending order"
      ],
      "metadata": {
        "id": "HdssBPoO-s0W"
      },
      "execution_count": 2,
      "outputs": []
    },
    {
      "cell_type": "code",
      "source": [
        "sample_set.add(1000)\n",
        "sample_set"
      ],
      "metadata": {
        "colab": {
          "base_uri": "https://localhost:8080/"
        },
        "id": "FBIYTExo-_XK",
        "outputId": "92e0e046-7999-4a84-d103-76eb01b3bf3b"
      },
      "execution_count": 3,
      "outputs": [
        {
          "output_type": "execute_result",
          "data": {
            "text/plain": [
              "{1, 1000, 12, 127, 13.6, 25, 'apple', 'ball', 'hi', 'king'}"
            ]
          },
          "metadata": {},
          "execution_count": 3
        }
      ]
    },
    {
      "cell_type": "code",
      "source": [
        "sample_set.remove(\"hi\")\n",
        "sample_set"
      ],
      "metadata": {
        "colab": {
          "base_uri": "https://localhost:8080/"
        },
        "id": "i97w7hRo_FZl",
        "outputId": "c3d62665-0c79-4643-d2b2-13132f79133f"
      },
      "execution_count": 4,
      "outputs": [
        {
          "output_type": "execute_result",
          "data": {
            "text/plain": [
              "{1, 1000, 12, 127, 13.6, 25, 'apple', 'ball', 'king'}"
            ]
          },
          "metadata": {},
          "execution_count": 4
        }
      ]
    },
    {
      "cell_type": "code",
      "source": [
        "sample_set[1]=23\n",
        "sample_set\n",
        "#error"
      ],
      "metadata": {
        "id": "8pCJ1FqB_MTF"
      },
      "execution_count": null,
      "outputs": []
    },
    {
      "cell_type": "code",
      "source": [
        "sample_set[2]\n",
        "#error"
      ],
      "metadata": {
        "id": "b75ydy5X_n1u"
      },
      "execution_count": null,
      "outputs": []
    },
    {
      "cell_type": "code",
      "source": [],
      "metadata": {
        "id": "93wEuKdA_ybO"
      },
      "execution_count": null,
      "outputs": []
    }
  ]
}