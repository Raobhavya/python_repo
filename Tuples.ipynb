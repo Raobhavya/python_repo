{
  "nbformat": 4,
  "nbformat_minor": 0,
  "metadata": {
    "colab": {
      "provenance": []
    },
    "kernelspec": {
      "name": "python3",
      "display_name": "Python 3"
    },
    "language_info": {
      "name": "python"
    }
  },
  "cells": [
    {
      "cell_type": "code",
      "execution_count": 1,
      "metadata": {
        "colab": {
          "base_uri": "https://localhost:8080/"
        },
        "id": "mFc5cg9s8x5J",
        "outputId": "44d7cb3a-4cd2-4485-ce32-99eb289a3302"
      },
      "outputs": [
        {
          "output_type": "execute_result",
          "data": {
            "text/plain": [
              "(1, 2, 3, 'hi', 5, 65)"
            ]
          },
          "metadata": {},
          "execution_count": 1
        }
      ],
      "source": [
        "sample_tuple=(1,2,3,\"hi\",5,65)\n",
        "sample_tuple"
      ]
    },
    {
      "cell_type": "code",
      "source": [
        "type(sample_tuple)"
      ],
      "metadata": {
        "colab": {
          "base_uri": "https://localhost:8080/"
        },
        "id": "eBqJxHBd86j9",
        "outputId": "cd7184d2-f7f7-4a77-c4aa-534aeff85689"
      },
      "execution_count": 2,
      "outputs": [
        {
          "output_type": "execute_result",
          "data": {
            "text/plain": [
              "tuple"
            ]
          },
          "metadata": {},
          "execution_count": 2
        }
      ]
    },
    {
      "cell_type": "code",
      "source": [
        "sample_tuple[0]"
      ],
      "metadata": {
        "colab": {
          "base_uri": "https://localhost:8080/"
        },
        "id": "I9CXogEE9AbK",
        "outputId": "a9e06ee2-649a-4130-a8f9-b09624efda9d"
      },
      "execution_count": 3,
      "outputs": [
        {
          "output_type": "execute_result",
          "data": {
            "text/plain": [
              "1"
            ]
          },
          "metadata": {},
          "execution_count": 3
        }
      ]
    },
    {
      "cell_type": "code",
      "source": [
        "#Tuples are immutable i.e they cannot be changed \n",
        "sample_tuple[0]=123\n",
        "sample_tuple\n",
        "#error"
      ],
      "metadata": {
        "id": "5pSCBNM79EOP"
      },
      "execution_count": null,
      "outputs": []
    },
    {
      "cell_type": "code",
      "source": [],
      "metadata": {
        "id": "gCjcaYjc9RAg"
      },
      "execution_count": null,
      "outputs": []
    }
  ]
}