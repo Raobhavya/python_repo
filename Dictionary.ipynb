{
  "nbformat": 4,
  "nbformat_minor": 0,
  "metadata": {
    "colab": {
      "provenance": []
    },
    "kernelspec": {
      "name": "python3",
      "display_name": "Python 3"
    },
    "language_info": {
      "name": "python"
    }
  },
  "cells": [
    {
      "cell_type": "code",
      "execution_count": null,
      "metadata": {
        "id": "NFl3r9oOAYeo"
      },
      "outputs": [],
      "source": [
        "sample_dict={1:\"apple\",2:54.3,3:\"data\",4:333,4:\"WWW\"}\n",
        "#always appear like a key and value pair datastructure\n",
        "#values can be duplicated \n",
        "#key is unique ,it considers the latest one\n",
        "#mutable,changes can be made on keys"
      ]
    },
    {
      "cell_type": "code",
      "source": [
        "sample_dict\n"
      ],
      "metadata": {
        "colab": {
          "base_uri": "https://localhost:8080/"
        },
        "id": "EBEc6rC9BN5d",
        "outputId": "8a9fffac-230b-4661-fa9b-b5c933bd068c"
      },
      "execution_count": null,
      "outputs": [
        {
          "output_type": "execute_result",
          "data": {
            "text/plain": [
              "{1: 'apple', 2: 54.3, 3: 'data', 4: 333}"
            ]
          },
          "metadata": {},
          "execution_count": 3
        }
      ]
    },
    {
      "cell_type": "code",
      "source": [
        "sample_dict[2]=50\n",
        "sample_dict"
      ],
      "metadata": {
        "colab": {
          "base_uri": "https://localhost:8080/"
        },
        "id": "zruMqITVBRb8",
        "outputId": "c328069e-0d0e-4fc5-b3a7-936b40635de6"
      },
      "execution_count": null,
      "outputs": [
        {
          "output_type": "execute_result",
          "data": {
            "text/plain": [
              "{1: 'apple', 2: 50, 3: 'data', 4: 333}"
            ]
          },
          "metadata": {},
          "execution_count": 4
        }
      ]
    },
    {
      "cell_type": "code",
      "source": [
        "sample_dict[4]"
      ],
      "metadata": {
        "colab": {
          "base_uri": "https://localhost:8080/",
          "height": 35
        },
        "id": "m7R9l08YB6KA",
        "outputId": "abf9920f-4345-49bf-9c39-3878fae286f0"
      },
      "execution_count": null,
      "outputs": [
        {
          "output_type": "execute_result",
          "data": {
            "text/plain": [
              "'WWW'"
            ],
            "application/vnd.google.colaboratory.intrinsic+json": {
              "type": "string"
            }
          },
          "metadata": {},
          "execution_count": 7
        }
      ]
    },
    {
      "cell_type": "code",
      "source": [
        "sample_dict[4]=\"123\"\n",
        "sample_dict\n"
      ],
      "metadata": {
        "id": "eqTuT3EBCQX6",
        "colab": {
          "base_uri": "https://localhost:8080/"
        },
        "outputId": "9f2da51b-9635-45f9-c933-97cbe1613842"
      },
      "execution_count": 10,
      "outputs": [
        {
          "output_type": "execute_result",
          "data": {
            "text/plain": [
              "{1: 'apple', 2: 54.3, 3: 'data', 4: '123'}"
            ]
          },
          "metadata": {},
          "execution_count": 10
        }
      ]
    },
    {
      "cell_type": "code",
      "source": [],
      "metadata": {
        "id": "ynI5gTMYC7dU"
      },
      "execution_count": 10,
      "outputs": []
    }
  ]
}